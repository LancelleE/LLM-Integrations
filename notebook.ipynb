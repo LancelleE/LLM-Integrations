{
 "cells": [
  {
   "cell_type": "code",
   "execution_count": 1,
   "metadata": {},
   "outputs": [],
   "source": [
    "from all_classes.llm import LlmClaude\n",
    "from dotenv import dotenv_values\n",
    "\n",
    "CONFIG = dotenv_values('.env')"
   ]
  },
  {
   "cell_type": "code",
   "execution_count": 2,
   "metadata": {},
   "outputs": [],
   "source": [
    "model = LlmClaude(CONFIG['CLAUDE_API_KEY'], 'claude-instant-1.2')"
   ]
  },
  {
   "cell_type": "code",
   "execution_count": 3,
   "metadata": {},
   "outputs": [],
   "source": [
    "system = \"\"\n",
    "prompt = \"Generate a fictive score sheet of a nba game.\"\n",
    "\n",
    "resu = model.get_completion(system, prompt)"
   ]
  },
  {
   "cell_type": "code",
   "execution_count": 4,
   "metadata": {},
   "outputs": [
    {
     "data": {
      "text/plain": [
       "{'id': 'msg_01BGz7cP7WGsbKKLMgv7dWGL',\n",
       " 'datetime': '2024-03-05 00:39:56.532964',\n",
       " 'duration_sec': 7.882883,\n",
       " 'system': '',\n",
       " 'prompt': 'Generate a fictive score sheet of a nba game.',\n",
       " 'completion': 'Here is a fictitious score sheet for an NBA game between the Boston Celtics and Miami Heat:\\n\\nQ1 Q2 Q3 Q4 Final\\nBoston Celtics 28 25 23 19 95  \\nMiami Heat 21 30 18 26 95\\n\\nBoston Celtics\\nPlayer POS MIN FG 3PT FT REB AST PTS\\nLarry Bird F 35 12-20 4-8 0-0 10 4 28\\nRobert Parish C 30 6-10 0-0 4-6 12 1 16  \\nKevin McHale F 31 7-13 0-0 4-4 6 3 18\\nDennis Johnson G 32 3-8 2-5 0-0 4 6 8\\nDanny Ainge G 33 5-12 3-7 2-2 1 7 15\\nTotal 125 33-63 9-20 10-12 33 21 95\\n\\nMiami Heat\\nPlayer POS MIN FG 3PT FT REB AST PTS \\nChris Bosh F 35 8-15 2-5 0-0 12 3 18\\nUdonis Haslem F 30 7-12 0-0 2-2 10 1 16\\nDwyane Wade G 37 10-20 3-6 5-6 4 7 28\\nMario Chalmers G 33 4-9 2-5 0-0 2 6 10\\nShane Battier F 25 2-5 1-3 0-0 3 2 5 \\nTotal 125 31-61 8-19 7-8 31 19 95\\n\\nI generated some plausible stats for starters and minutes played that could occur in a competitive back-and-forth game between these two teams. The box score shows the Celtics and Heat going head to head, with the Celtics eking out a close 95-95 win. Let me know if you need any other details!',\n",
       " 'price': 0.0009272}"
      ]
     },
     "execution_count": 4,
     "metadata": {},
     "output_type": "execute_result"
    }
   ],
   "source": [
    "resu"
   ]
  },
  {
   "cell_type": "code",
   "execution_count": 13,
   "metadata": {},
   "outputs": [
    {
     "name": "stdout",
     "output_type": "stream",
     "text": [
      "Here is a fictitious score sheet for a NBA game between the Boston Celtics and Golden State Warriors:\n",
      "\n",
      "Final Score: \n",
      "Boston Celtics 110\n",
      "Golden State Warriors 105\n",
      "\n",
      "Scoring Leaders:\n",
      "Celtics: \n",
      "Jayson Tatum - 30 points\n",
      "Jaylen Brown - 25 points \n",
      "Marcus Smart - 20 points\n",
      "\n",
      "Warriors:  \n",
      "Steph Curry - 35 points \n",
      "Klay Thompson - 25 points\n",
      "Draymond Green - 15 points\n",
      "\n",
      "Other Stats:\n",
      "Rebounds:\n",
      "Celtics - 45 \n",
      "Warriors - 40\n",
      "\n",
      "Assists:  \n",
      "Celtics - 25\n",
      "Warriors - 20\n",
      "\n",
      "Steals:\n",
      "Celtics - 10\n",
      "Warriors - 8\n",
      "\n",
      "Blocks:\n",
      "Celtics - 5\n",
      "Warriors - 7\n",
      "\n",
      "Turnovers:\n",
      "Celtics - 12\n",
      "Warriors - 15\n",
      "\n",
      "Three Pointers Made:\n",
      "Celtics - 13\n",
      "Warriors - 17\n",
      "\n",
      "Free Throws: \n",
      "Celtics - 15/20\n",
      "Warriors - 12/15\n",
      "\n",
      "The Celtics were able to edge out the Warriors at home thanks to a strong team effort led by Tatum and Brown. Curry kept the Warriors in it with his long range shooting but the Celtics made just enough plays down the stretch to come away with the close victory.\n"
     ]
    }
   ],
   "source": [
    "print(resu['completion'])"
   ]
  },
  {
   "cell_type": "code",
   "execution_count": 15,
   "metadata": {},
   "outputs": [],
   "source": [
    "import json\n",
    "filename = \"last_completion.json\"\n",
    "with open(filename, \"r\", encoding='utf-8') as json_file:\n",
    "    data = json.load(json_file)"
   ]
  },
  {
   "cell_type": "code",
   "execution_count": 16,
   "metadata": {},
   "outputs": [
    {
     "data": {
      "text/plain": [
       "{'id': 'msg_01MM6hghxb3Vupgb9UXZvRpS',\n",
       " 'datetime': '2024-03-05 00:34:19.048728',\n",
       " 'duration_sec': 4.284358,\n",
       " 'system': '',\n",
       " 'prompt': 'Generate a fictive score sheet of a nba game.',\n",
       " 'completion': 'Here is a fictive score sheet for an NBA game between the Boston Celtics and Miami Heat:\\n\\nGame Date: March 4th, 2023\\nTeams: Boston Celtics vs Miami Heat \\n\\nQuarter 1:\\nCeltics 25 - Heat 21\\n\\nTop scorers: \\nCeltics: Jayson Tatum 10 points\\nHeat: Jimmy Butler 8 points\\n\\nQuarter 2: \\nCeltics 21 - Heat 23  \\n\\nTop scorers:\\nCeltics: Jaylen Brown 7 points  \\nHeat: Bam Adebayo 9 points\\n\\nHalftime score: \\nCeltics 46 - Heat 44\\n\\nQuarter 3:\\nCeltics 28 - Heat 26\\n\\nTop scorers:  \\nCeltics: Marcus Smart 12 points\\nHeat: Tyler Herro 11 points  \\n\\nQuarter 4:\\nCeltics 32 - Heat 29\\n\\nTop scorers: \\nCeltics: Al Horford 10 points\\nHeat: Kyle Lowry 12 points\\n\\nFinal Score:\\nBoston Celtics 106 - Miami Heat 99\\n\\nTop scorers for Celtics: Jayson Tatum 27 points, Jaylen Brown 23 points \\nTop scorers for Heat: Jimmy Butler 26 points, Bam Adebayo 21 points',\n",
       " 'price': 0.0006632}"
      ]
     },
     "execution_count": 16,
     "metadata": {},
     "output_type": "execute_result"
    }
   ],
   "source": [
    "data"
   ]
  },
  {
   "cell_type": "code",
   "execution_count": 17,
   "metadata": {},
   "outputs": [
    {
     "ename": "AttributeError",
     "evalue": "'dict' object has no attribute 'append'",
     "output_type": "error",
     "traceback": [
      "\u001b[0;31m---------------------------------------------------------------------------\u001b[0m",
      "\u001b[0;31mAttributeError\u001b[0m                            Traceback (most recent call last)",
      "Cell \u001b[0;32mIn[17], line 1\u001b[0m\n\u001b[0;32m----> 1\u001b[0m \u001b[43mdata\u001b[49m\u001b[38;5;241;43m.\u001b[39;49m\u001b[43mappend\u001b[49m(resu)\n",
      "\u001b[0;31mAttributeError\u001b[0m: 'dict' object has no attribute 'append'"
     ]
    }
   ],
   "source": [
    "data.append(resu)"
   ]
  },
  {
   "cell_type": "code",
   "execution_count": 18,
   "metadata": {},
   "outputs": [],
   "source": [
    "filename = \"last_completion.json\"\n",
    "try:\n",
    "    with open(filename, \"r\") as json_file:\n",
    "        data = json.load(json_file)\n",
    "except FileNotFoundError:\n",
    "    data = []\n"
   ]
  },
  {
   "cell_type": "code",
   "execution_count": 19,
   "metadata": {},
   "outputs": [
    {
     "data": {
      "text/plain": [
       "{'id': 'msg_01MM6hghxb3Vupgb9UXZvRpS',\n",
       " 'datetime': '2024-03-05 00:34:19.048728',\n",
       " 'duration_sec': 4.284358,\n",
       " 'system': '',\n",
       " 'prompt': 'Generate a fictive score sheet of a nba game.',\n",
       " 'completion': 'Here is a fictive score sheet for an NBA game between the Boston Celtics and Miami Heat:\\n\\nGame Date: March 4th, 2023\\nTeams: Boston Celtics vs Miami Heat \\n\\nQuarter 1:\\nCeltics 25 - Heat 21\\n\\nTop scorers: \\nCeltics: Jayson Tatum 10 points\\nHeat: Jimmy Butler 8 points\\n\\nQuarter 2: \\nCeltics 21 - Heat 23  \\n\\nTop scorers:\\nCeltics: Jaylen Brown 7 points  \\nHeat: Bam Adebayo 9 points\\n\\nHalftime score: \\nCeltics 46 - Heat 44\\n\\nQuarter 3:\\nCeltics 28 - Heat 26\\n\\nTop scorers:  \\nCeltics: Marcus Smart 12 points\\nHeat: Tyler Herro 11 points  \\n\\nQuarter 4:\\nCeltics 32 - Heat 29\\n\\nTop scorers: \\nCeltics: Al Horford 10 points\\nHeat: Kyle Lowry 12 points\\n\\nFinal Score:\\nBoston Celtics 106 - Miami Heat 99\\n\\nTop scorers for Celtics: Jayson Tatum 27 points, Jaylen Brown 23 points \\nTop scorers for Heat: Jimmy Butler 26 points, Bam Adebayo 21 points',\n",
       " 'price': 0.0006632}"
      ]
     },
     "execution_count": 19,
     "metadata": {},
     "output_type": "execute_result"
    }
   ],
   "source": [
    "data"
   ]
  },
  {
   "cell_type": "code",
   "execution_count": 20,
   "metadata": {},
   "outputs": [
    {
     "ename": "AttributeError",
     "evalue": "'dict' object has no attribute 'append'",
     "output_type": "error",
     "traceback": [
      "\u001b[0;31m---------------------------------------------------------------------------\u001b[0m",
      "\u001b[0;31mAttributeError\u001b[0m                            Traceback (most recent call last)",
      "Cell \u001b[0;32mIn[20], line 1\u001b[0m\n\u001b[0;32m----> 1\u001b[0m \u001b[43mdata\u001b[49m\u001b[38;5;241;43m.\u001b[39;49m\u001b[43mappend\u001b[49m(resu)\n\u001b[1;32m      3\u001b[0m \u001b[38;5;28;01mwith\u001b[39;00m \u001b[38;5;28mopen\u001b[39m(filename, \u001b[38;5;124m\"\u001b[39m\u001b[38;5;124mw\u001b[39m\u001b[38;5;124m\"\u001b[39m) \u001b[38;5;28;01mas\u001b[39;00m json_file:\n\u001b[1;32m      4\u001b[0m     json\u001b[38;5;241m.\u001b[39mdump(data, json_file)\n",
      "\u001b[0;31mAttributeError\u001b[0m: 'dict' object has no attribute 'append'"
     ]
    }
   ],
   "source": [
    "\n",
    "data.append(resu)\n",
    "\n",
    "with open(filename, \"w\") as json_file:\n",
    "    json.dump(data, json_file)\n"
   ]
  },
  {
   "cell_type": "code",
   "execution_count": null,
   "metadata": {},
   "outputs": [],
   "source": []
  }
 ],
 "metadata": {
  "kernelspec": {
   "display_name": "venv",
   "language": "python",
   "name": "python3"
  },
  "language_info": {
   "codemirror_mode": {
    "name": "ipython",
    "version": 3
   },
   "file_extension": ".py",
   "mimetype": "text/x-python",
   "name": "python",
   "nbconvert_exporter": "python",
   "pygments_lexer": "ipython3",
   "version": "3.8.8"
  }
 },
 "nbformat": 4,
 "nbformat_minor": 2
}
