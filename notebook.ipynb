{
 "cells": [
  {
   "cell_type": "code",
   "execution_count": 15,
   "metadata": {},
   "outputs": [],
   "source": [
    "from datetime import datetime\n",
    "from all_classes.llm import LlmClaude\n",
    "from dotenv import dotenv_values\n",
    "\n",
    "CONFIG = dotenv_values('.env')"
   ]
  },
  {
   "cell_type": "markdown",
   "metadata": {},
   "source": [
    "Les modèles disponibles :\n",
    "- claude-instant-1.2\n",
    "- claude-2.0\n",
    "- claude-2.1\n",
    "- claude-3-sonnet-20240229\n",
    "- claude-3-opus-20240229\n",
    "\n",
    "Bientôt disponibles :\n",
    "- claude-3-haiku-20240229"
   ]
  },
  {
   "cell_type": "code",
   "execution_count": 16,
   "metadata": {},
   "outputs": [],
   "source": [
    "model = LlmClaude(CONFIG['CLAUDE_API_KEY'], 'claude-3-sonnet-20240229')"
   ]
  },
  {
   "cell_type": "code",
   "execution_count": 22,
   "metadata": {},
   "outputs": [],
   "source": [
    "system = f\"\"\"\n",
    "You are a todoist assistant, you will transform natural language queries\n",
    "into a formatted json following this pattern. If multiple queries, create a list of python dictionaries. Format the output :\n",
    "<code>\n",
    "task_data = {{\n",
    "    'content': 'Buy groceries',\n",
    "    'due_string': 'tomorrow',\n",
    "    'due_lang': 'en',\n",
    "    'priority': 1,  # 1 from priority 1 to priority 4\n",
    "    'description': 'Remember to buy organic fruits and vegetables.',  # Description of the task\n",
    "    'due_date_utc': ''# Due date in UTC format\n",
    "    'reminder': 30,  # Reminder in minutes before the due date\n",
    "    'auto_reminder': True,  # Enable or disable automatic reminders\n",
    "}}\n",
    "</code>\n",
    "Calculate dates based on current date : {str(datetime.now().date())}\n",
    "\"\"\"\n",
    "\n",
    "\n",
    "prompt = \"\"\"\n",
    "I have to buy fresh milk and bananas for my run. \n",
    "Also, I have to wash my sport clothes tomorrow.\n",
    "Next monday I will have to see my boss for a raise, so I have to prepare myself for it\n",
    "\"\"\"\n",
    "\n",
    "print(f'SYSTEM PROMPT :\\n{system}\\n\\nUSER PROMPT :\\n{prompt}')\n"
   ]
  },
  {
   "cell_type": "code",
   "execution_count": 24,
   "metadata": {},
   "outputs": [
    {
     "name": "stdout",
     "output_type": "stream",
     "text": [
      "Here are the tasks formatted as Python dictionaries:\n",
      "\n",
      "<code>\n",
      "task_data = [\n",
      "    {\n",
      "        'content': 'Buy fresh milk and bananas',\n",
      "        'due_string': 'today',\n",
      "        'due_lang': 'en',\n",
      "        'priority': 2,\n",
      "        'description': 'Buy fresh milk and bananas for my run.',\n",
      "        'due_date_utc': '2024-03-05T23:59:59Z',\n",
      "        'reminder': 60,\n",
      "        'auto_reminder': True\n",
      "    },\n",
      "    {\n",
      "        'content': 'Wash sport clothes',\n",
      "        'due_string': 'today',\n",
      "        'due_lang': 'en',\n",
      "        'priority': 3,\n",
      "        'description': 'Wash my sport clothes.',\n",
      "        'due_date_utc': '2024-03-05T23:59:59Z',\n",
      "        'reminder': 120,\n",
      "        'auto_reminder': True\n",
      "    },\n",
      "    {\n",
      "        'content': 'Prepare for meeting with boss',\n",
      "        'due_string': 'next monday',\n",
      "        'due_lang': 'en',\n",
      "        'priority': 1,\n",
      "        'description': 'Prepare myself for meeting with boss to request a raise.',\n",
      "        'due_date_utc': '2024-03-11T23:59:59Z',\n",
      "        'reminder': 480,\n",
      "        'auto_reminder': True\n",
      "    }\n",
      "]\n",
      "</code>\n"
     ]
    }
   ],
   "source": [
    "output = model.get_completion(system, prompt)\n",
    "print(output['completion'])"
   ]
  }
 ],
 "metadata": {
  "kernelspec": {
   "display_name": "venv",
   "language": "python",
   "name": "python3"
  },
  "language_info": {
   "codemirror_mode": {
    "name": "ipython",
    "version": 3
   },
   "file_extension": ".py",
   "mimetype": "text/x-python",
   "name": "python",
   "nbconvert_exporter": "python",
   "pygments_lexer": "ipython3",
   "version": "3.8.8"
  }
 },
 "nbformat": 4,
 "nbformat_minor": 2
}
