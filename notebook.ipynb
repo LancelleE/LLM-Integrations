{
 "cells": [
  {
   "cell_type": "code",
   "execution_count": 1,
   "metadata": {},
   "outputs": [],
   "source": [
    "from datetime import datetime\n",
    "from all_classes import claude, gpt\n",
    "from dotenv import dotenv_values\n",
    "CONFIG = dotenv_values('.env')"
   ]
  },
  {
   "cell_type": "code",
   "execution_count": 2,
   "metadata": {},
   "outputs": [
    {
     "name": "stdout",
     "output_type": "stream",
     "text": [
      "SYSTEM PROMPT :\n",
      "\n",
      "You are a Todoist assistant, you will transform natural language tasks\n",
      "into a formatted Python dictionary following this pattern. If multiple tasks, create a list of python dictionaries. Format the output as :\n",
      "<code>\n",
      "task_data = {\n",
      "    'content': 'Buy groceries',\n",
      "    'due_string': 'tomorrow',\n",
      "    'due_lang': 'en',\n",
      "    'priority': 1,  # 1 from priority 1 to priority 4\n",
      "    'description': 'Remember to buy organic fruits and vegetables.',  # Description of the task\n",
      "    'due_date_utc': ''# Due date in UTC format\n",
      "    'reminder': 30,  # Reminder in minutes before the due date\n",
      "    'auto_reminder': True,  # Enable or disable automatic reminders\n",
      "}\n",
      "</code>\n",
      "Calculate dates based on today date : 2024-03-06\n",
      "\n",
      "\n",
      "USER PROMPT :\n",
      "\n",
      "I have to buy fresh milk and bananas for my run. \n",
      "Also, I have to wash my sport clothes tomorrow.\n",
      "Next monday I will have to see my boss for a raise, so I have to prepare myself for it\n",
      "\n"
     ]
    }
   ],
   "source": [
    "system = f\"\"\"\n",
    "You are a Todoist assistant, you will transform natural language tasks\n",
    "into a formatted Python dictionary following this pattern. If multiple tasks, create a list of python dictionaries. Format the output as :\n",
    "<code>\n",
    "task_data = {{\n",
    "    'content': 'Buy groceries',\n",
    "    'due_string': 'tomorrow',\n",
    "    'due_lang': 'en',\n",
    "    'priority': 1,  # 1 from priority 1 to priority 4\n",
    "    'description': 'Remember to buy organic fruits and vegetables.',  # Description of the task\n",
    "    'due_date_utc': ''# Due date in UTC format\n",
    "    'reminder': 30,  # Reminder in minutes before the due date\n",
    "    'auto_reminder': True,  # Enable or disable automatic reminders\n",
    "}}\n",
    "</code>\n",
    "Calculate dates based on today date : {str(datetime.now().date())}\n",
    "\"\"\"\n",
    "\n",
    "\n",
    "prompt = \"\"\"\n",
    "I have to buy fresh milk and bananas for my run. \n",
    "Also, I have to wash my sport clothes tomorrow.\n",
    "Next monday I will have to see my boss for a raise, so I have to prepare myself for it\n",
    "\"\"\"\n",
    "\n",
    "print(f'SYSTEM PROMPT :\\n{system}\\n\\nUSER PROMPT :\\n{prompt}')\n"
   ]
  },
  {
   "cell_type": "code",
   "execution_count": 3,
   "metadata": {},
   "outputs": [
    {
     "name": "stdout",
     "output_type": "stream",
     "text": [
      "Here are the tasks formatted as Python dictionaries:\n",
      "\n",
      "task_data = [\n",
      "  {\n",
      "    'content': 'Buy fresh milk and bananas for my run', \n",
      "    'due_string': 'today',\n",
      "    'due_lang': 'en',\n",
      "    'priority': 2,\n",
      "    'description': '',\n",
      "    'due_date_utc': '2024-03-06T00:00:00Z',\n",
      "    'reminder': None, \n",
      "    'auto_reminder': True\n",
      "  },\n",
      "  {\n",
      "    'content': 'Wash my sport clothes',\n",
      "    'due_string': 'tomorrow', \n",
      "    'due_lang': 'en',\n",
      "    'priority': 3,\n",
      "    'description': '',\n",
      "    'due_date_utc': '2024-03-07T00:00:00Z',\n",
      "    'reminder': None,\n",
      "    'auto_reminder': True  \n",
      "  },\n",
      "  {\n",
      "    'content': 'See my boss for a raise',\n",
      "    'due_string': 'next monday',\n",
      "    'due_lang': 'en',\n",
      "    'priority': 1,\n",
      "    'description': 'Prepare myself for it',\n",
      "    'due_date_utc': '2024-03-13T00:00:00Z',\n",
      "    'reminder': None,\n",
      "    'auto_reminder': True\n",
      "  }\n",
      "]\n"
     ]
    }
   ],
   "source": [
    "model = claude.LlmClaude(CONFIG['CLAUDE_API_KEY'], 'claude-instant-1.2')\n",
    "output = model.get_completion(system, prompt, )\n",
    "print(output['completion'])"
   ]
  },
  {
   "cell_type": "code",
   "execution_count": 4,
   "metadata": {},
   "outputs": [
    {
     "name": "stdout",
     "output_type": "stream",
     "text": [
      "[\n",
      "    {\n",
      "        'content': 'Buy fresh milk and bananas for my run',\n",
      "        'due_string': 'tomorrow',\n",
      "        'due_lang': 'en',\n",
      "        'priority': 2,\n",
      "        'description': '',\n",
      "        'due_date_utc': '',\n",
      "        'reminder': 0,\n",
      "        'auto_reminder': True,\n",
      "    },\n",
      "    {\n",
      "        'content': 'Wash my sports clothes',\n",
      "        'due_string': 'tomorrow',\n",
      "        'due_lang': 'en',\n",
      "        'priority': 2,\n",
      "        'description': '',\n",
      "        'due_date_utc': '',\n",
      "        'reminder': 0,\n",
      "        'auto_reminder': True,\n",
      "    },\n",
      "    {\n",
      "        'content': 'Prepare myself for meeting with boss for a raise',\n",
      "        'due_string': 'next Monday',\n",
      "        'due_lang': 'en',\n",
      "        'priority': 2,\n",
      "        'description': '',\n",
      "        'due_date_utc': '',\n",
      "        'reminder': 0,\n",
      "        'auto_reminder': True,\n",
      "    }\n",
      "]\n"
     ]
    }
   ],
   "source": [
    "llm_gpt = gpt.LlmOpenAi(CONFIG['OPENAI_API_KEY'], 'gpt-3.5-turbo-0125')\n",
    "gpt_output = llm_gpt.get_completion(system, prompt)\n",
    "print(gpt_output['completion'])"
   ]
  },
  {
   "cell_type": "code",
   "execution_count": null,
   "metadata": {},
   "outputs": [],
   "source": []
  }
 ],
 "metadata": {
  "kernelspec": {
   "display_name": "venv",
   "language": "python",
   "name": "python3"
  },
  "language_info": {
   "codemirror_mode": {
    "name": "ipython",
    "version": 3
   },
   "file_extension": ".py",
   "mimetype": "text/x-python",
   "name": "python",
   "nbconvert_exporter": "python",
   "pygments_lexer": "ipython3",
   "version": "3.8.8"
  }
 },
 "nbformat": 4,
 "nbformat_minor": 2
}
